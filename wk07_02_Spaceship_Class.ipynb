{
 "cells": [
  {
   "cell_type": "markdown",
   "metadata": {},
   "source": [
    "# wk07_02  Spaceship Class"
   ]
  },
  {
   "cell_type": "markdown",
   "metadata": {},
   "source": [
    "단독비행 프로그램 Demo "
   ]
  },
  {
   "cell_type": "code",
   "execution_count": null,
   "metadata": {},
   "outputs": [],
   "source": [
    "# Partial example code for Spaceship\n",
    "\n",
    "import SimpleGUICS2Pygame.simpleguics2pygame as simplegui\n",
    "\n",
    "\n",
    "class ImageInfo:\n",
    "    def __init__(self, center, size, radius = 0, lifespan = None, animated = False):\n",
    "        self.center = center\n",
    "        self.size = size\n",
    "        self.radius = radius\n",
    "        if lifespan:\n",
    "            self.lifespan = lifespan\n",
    "        else:\n",
    "            self.lifespan = float('inf')\n",
    "        self.animated = animated\n",
    "\n",
    "    def get_center(self):\n",
    "        return self.center\n",
    "\n",
    "    def get_size(self):\n",
    "        return self.size\n",
    "\n",
    "    def get_radius(self):\n",
    "        return self.radius\n",
    "\n",
    "    def get_lifespan(self):\n",
    "        return self.lifespan\n",
    "\n",
    "    def get_animated(self):\n",
    "        return self.animated\n",
    "\n",
    "    \n",
    "# art assets created by Kim Lathrop, may be freely re-used in non-commercial projects, please credit Kim\n",
    "    \n",
    "# ship image\n",
    "ship_info = ImageInfo([45, 45], [90, 90], 35)\n",
    "ship_image = simplegui.load_image(\"http://commondatastorage.googleapis.com/codeskulptor-assets/lathrop/double_ship.png\")\n",
    "\n",
    "# sound assets purchased from sounddogs.com, please do not redistribute\n",
    "ship_thrust_sound = simplegui.load_sound(\"http://commondatastorage.googleapis.com/codeskulptor-assets/sounddogs/thrust.mp3\")\n",
    "\n",
    "\n",
    "# Ship class\n",
    "class Ship:\n",
    "    def __init__(self, pos, vel, angle, image, info):\n",
    "        self.pos = [pos[0],pos[1]]\n",
    "        self.vel = [vel[0],vel[1]]\n",
    "        self.thrust = False\n",
    "        self.angle = angle\n",
    "        self.angle_vel = 0\n",
    "        self.image = image\n",
    "        self.image_center = info.get_center()\n",
    "        self.image_size = info.get_size()\n",
    "        self.radius = info.get_radius()\n",
    "        \n",
    "    def draw(self,canvas):\n",
    "        canvas.draw_circle(self.pos, self.radius, 1, \"White\", \"White\")\n",
    "\n",
    "    def update(self):\n",
    "        pass\n",
    "    \n"
   ]
  }
 ],
 "metadata": {
  "kernelspec": {
   "display_name": "Python 3",
   "language": "python",
   "name": "python3"
  },
  "language_info": {
   "codemirror_mode": {
    "name": "ipython",
    "version": 3
   },
   "file_extension": ".py",
   "mimetype": "text/x-python",
   "name": "python",
   "nbconvert_exporter": "python",
   "pygments_lexer": "ipython3",
   "version": "3.7.0"
  }
 },
 "nbformat": 4,
 "nbformat_minor": 2
}
