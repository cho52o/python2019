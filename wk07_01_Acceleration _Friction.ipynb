{
 "cells": [
  {
   "cell_type": "markdown",
   "metadata": {},
   "source": [
    "# wk07_01 Acceleration and Friction"
   ]
  },
  {
   "cell_type": "markdown",
   "metadata": {},
   "source": [
    "프로그램 Demo"
   ]
  },
  {
   "cell_type": "markdown",
   "metadata": {},
   "source": [
    "### Controlling the spaceship's orientation"
   ]
  },
  {
   "cell_type": "markdown",
   "metadata": {},
   "source": [
    "Spaceship class - two fields<br>\n",
    "&nbsp;&nbsp;&nbsp;&nbsp;self.angle - ship orientation (scalar/float)<br>\n",
    "&nbsp;&nbsp;&nbsp;&nbsp;self.angle_vel - ship's angular velocity (scalar/float)<br>"
   ]
  },
  {
   "cell_type": "markdown",
   "metadata": {},
   "source": [
    "<img style=\"float: left;\" src=\"pic/07_01_01.png\"  width=\"300\">"
   ]
  },
  {
   "cell_type": "markdown",
   "metadata": {},
   "source": [
    "Update method<br>\n",
    "&nbsp;&nbsp;&nbsp;&nbsp;self.angle += self.angle_vel<br>\n",
    "<br>\n",
    "Key handler controls self.angle_vel<br>\n",
    "<br>\n",
    "Draw method<br>\n",
    "&nbsp;&nbsp;&nbsp;&nbsp;canvas.draw_image(self.image, …, …, …, …, self.angle)<br><br><br><br>"
   ]
  },
  {
   "cell_type": "markdown",
   "metadata": {},
   "source": [
    "### Relating position, velocity, and acceleration"
   ]
  },
  {
   "cell_type": "markdown",
   "metadata": {},
   "source": [
    "Basic physics<br>\n",
    "&nbsp;&nbsp;&nbsp;&nbsp;position - point<br>\n",
    "&nbsp;&nbsp;&nbsp;&nbsp;velocity - vector<br>\n",
    "&nbsp;&nbsp;&nbsp;&nbsp;acceleration - vector<br>\n",
    "<br>\n",
    "\\#Position update<br>\n",
    "position += velocity<br>\n",
    "<br>\n",
    "\\#Velocity update<br>\n",
    "velocity += acceleration<br>"
   ]
  },
  {
   "cell_type": "markdown",
   "metadata": {},
   "source": [
    "<img style=\"float: left;\" src=\"pic/07_01_02.png\"  width=\"200\">"
   ]
  },
  {
   "cell_type": "markdown",
   "metadata": {},
   "source": [
    "<br><br><br><br>"
   ]
  },
  {
   "cell_type": "markdown",
   "metadata": {},
   "source": [
    "### Adding acceleration to the spaceship"
   ]
  },
  {
   "cell_type": "markdown",
   "metadata": {},
   "source": [
    "Ship class - four fields<br>\n",
    "&nbsp;&nbsp;&nbsp;&nbsp;self.pos - ship's position (vector/pair of floats)<br>\n",
    "&nbsp;&nbsp;&nbsp;&nbsp;self.vel - ship's velocity (vector/pair of floats)<br>\n",
    "&nbsp;&nbsp;&nbsp;&nbsp;self.angle - ship's orientation (scalar/float)<br>\n",
    "&nbsp;&nbsp;&nbsp;&nbsp;self.thrust - whether ship is accelerating in forward direction (Boolean)<br>\n",
    "<br>\n",
    "\\# Position update<br>\n",
    "self.pos[0] += self.vel[0]<br>\n",
    "self.pos[1] += self.vel[1]<br>\n",
    "<br>\n",
    "\\# Velocity update - acceleration in direction of forward vector<br>\n",
    "forward = [math.cos(self.angle), math.sin(self.angle)]<br>"
   ]
  },
  {
   "cell_type": "markdown",
   "metadata": {},
   "source": [
    "<img style=\"float: left;\" src=\"pic/07_01_03.png\"  width=\"200\">"
   ]
  },
  {
   "cell_type": "markdown",
   "metadata": {},
   "source": [
    "if self.thrust:<br>\n",
    "&nbsp;&nbsp;&nbsp;&nbsp;self.vel[0] += forward[0]<br>\n",
    "&nbsp;&nbsp;&nbsp;&nbsp;self.vel[1] += forward[1]<br><br><br><br>"
   ]
  },
  {
   "cell_type": "markdown",
   "metadata": {},
   "source": [
    "### Adding friction to the spaceship"
   ]
  },
  {
   "cell_type": "markdown",
   "metadata": {},
   "source": [
    "Friction - let c be a small constant<br>\n",
    "&nbsp;&nbsp;&nbsp;&nbsp;friction = - c * velocity<br> \n",
    "<br>\n",
    "acceleration = thrust + friction<br>\n",
    "<br>\n",
    "velocity = velocity + acceleration<br>\n",
    "velocity = velocity + thrust + friction<br>\n",
    "velocity = velocity + thrust - c * velocity<br>\n",
    "velocity = (1 - c) * velocity + thrust<br>\n",
    "<br>\n",
    "#Position update<br>\n",
    "self.pos[0] += self.vel[0]<br>\n",
    "self.pos[1] += self.vel[1]<br>\n",
    "<br>\n",
    "#Friction udpate<br>\n",
    "self.vel[0] *= (1 - c)<br>\n",
    "self.vel[1] *= (1 - c)<br>\n",
    "<br>\n",
    "#Thrust update - acceleration in direction of forward vector<br>\n",
    "forward = [math.cos(self.angle), math.sin(self.angle)]<br>\n",
    "if self.thrust:<br>\n",
    "&nbsp;&nbsp;&nbsp;&nbsp;self.vel[0] += forward[0]<br>\n",
    "&nbsp;&nbsp;&nbsp;&nbsp;self.vel[1] += forward[1]<br><br><br><br>"
   ]
  }
 ],
 "metadata": {
  "kernelspec": {
   "display_name": "Python 3",
   "language": "python",
   "name": "python3"
  },
  "language_info": {
   "codemirror_mode": {
    "name": "ipython",
    "version": 3
   },
   "file_extension": ".py",
   "mimetype": "text/x-python",
   "name": "python",
   "nbconvert_exporter": "python",
   "pygments_lexer": "ipython3",
   "version": "3.7.0"
  }
 },
 "nbformat": 4,
 "nbformat_minor": 2
}
