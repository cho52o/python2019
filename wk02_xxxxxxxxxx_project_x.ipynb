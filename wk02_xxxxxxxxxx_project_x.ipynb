{
 "cells": [
  {
   "cell_type": "markdown",
   "metadata": {},
   "source": [
    "# wk02_ Project_X:  숫자 맞추기 (사람이 숫자를 생각하고 컴퓨터가 맞추기)"
   ]
  },
  {
   "cell_type": "markdown",
   "metadata": {},
   "source": [
    "버튼: higher, lower, correct<br>\n",
    "범위[0,100)과 [0,1000)은  컴퓨터가 랜덤하게 선택<br>\n",
    "나머지는 변함없음.<br>\n"
   ]
  },
  {
   "cell_type": "markdown",
   "metadata": {},
   "source": [
    "컴퓨터는 항상 좁혀진 범위 내의 숫자를 선택하여야 한다.  \n",
    "예를 들어 범위 [0,100)을 선택하고, 컴퓨터가  첫번째 guessing number 로 30을 선택한 경우, 플레이어가 lower 버튼을 누르면,\n",
    "컴퓨터는 (0,29) 범위에서 숫자를 선택하여야 한다.  "
   ]
  },
  {
   "cell_type": "markdown",
   "metadata": {},
   "source": [
    "[0,100)은 최대 7회, [0,1000)은 최대 10회 시도 할 수 있으며, 최대 시도 횟수를 넘게되면, 컴퓨터가 진다.<br><br><br>"
   ]
  },
  {
   "cell_type": "markdown",
   "metadata": {},
   "source": [
    "**컴퓨터의 정수 선택 방법**  \n",
    "\n",
    "(기본 값) 범위안에서 랜덤하게 정수 선택. \n",
    "\n",
    "한남이 버튼: 범위의 중간값에 가장 가까운 정수 선택<br> <br><br>"
   ]
  },
  {
   "cell_type": "markdown",
   "metadata": {},
   "source": [
    "###  또는 새로운 응용 아이디어를 코딩"
   ]
  },
  {
   "cell_type": "code",
   "execution_count": 2,
   "metadata": {},
   "outputs": [
    {
     "name": "stdout",
     "output_type": "stream",
     "text": [
      "97\n",
      "37\n",
      "남은 기회 : 6\n",
      "22\n",
      "남은 기회 : 5\n",
      "0\n",
      "남은 기회 : 4\n",
      "5\n",
      "남은 기회 : 3\n",
      "7\n",
      "남은 기회 : 2\n",
      "12\n",
      "남은 기회 : 1\n",
      "16\n",
      "남은 기회 : 0\n",
      "틀렸습니다. 답은 15\n",
      "17\n",
      "남은 기회 : -1\n",
      "17\n",
      "남은 기회 : -1\n",
      "17\n",
      "남은 기회 : -1\n"
     ]
    }
   ],
   "source": [
    "import SimpleGUICS2Pygame.simpleguics2pygame as simplegui\n",
    "import random\n",
    "\n",
    "i=7\n",
    "n=0\n",
    "a=0\n",
    "t=[99,999]\n",
    "score_you = 0\n",
    "score_comp = 0\n",
    "\n",
    "def restart():\n",
    "    global score_comp, score_you\n",
    "    score_comp = 0\n",
    "    score_you = 0\n",
    "\n",
    "def score():\n",
    "    print(\"점수 you : comp =\", score_you, \":\", score_comp)\n",
    "\n",
    "def higher():\n",
    "    global chooes, a, i, score_comp, score_you\n",
    "    a=chooes+1\n",
    "    chooes = random.randint(a, b)\n",
    "    print(chooes)\n",
    "    print(\"남은 기회 :\", i-1)\n",
    "    if i > 0:\n",
    "        i-= 1\n",
    "    if i == 0:\n",
    "        if chooes == n:\n",
    "            score_comp += 1\n",
    "            print(\"정답입니다.\")\n",
    "        if not chooes == n:\n",
    "            score_you += 1\n",
    "            print(\"틀렸습니다. 답은\", n)\n",
    "\n",
    "def lower():\n",
    "    global chooes, b, i, score_comp, score_you\n",
    "    b=chooes-1\n",
    "    chooes = random.randint(a,b)\n",
    "    print(chooes)\n",
    "    print(\"남은 기회 :\", i-1)\n",
    "    if i > 0:\n",
    "        i-= 1\n",
    "    if i == 0:\n",
    "        if chooes == n:\n",
    "            score_comp += 1\n",
    "            print(\"정답입니다.\")\n",
    "        if not chooes == n:\n",
    "            score_you += 1\n",
    "            print(\"틀렸습니다. 답은\", n)\n",
    "\n",
    "def correct():\n",
    "    global score_comp, score_you\n",
    "    score_comp += 1\n",
    "    print(\"정답입니다.\")\n",
    "\n",
    "def hannam():\n",
    "    global chooes, i\n",
    "    chooes = (a+b) // 2\n",
    "    print(chooes)\n",
    "    print(\"남은 기회 :\", i-1)\n",
    "\n",
    "def input_guess(guess):\n",
    "    global n, chooes, b, i\n",
    "    n = int(guess)\n",
    "    b = random.choice(t)\n",
    "    if b==99:\n",
    "        i = 7\n",
    "    else:\n",
    "        i = 10\n",
    "    chooes = random.randint(a, b)\n",
    "    print(chooes)\n",
    "\n",
    "f = simplegui.create_frame(\"Guess the Number\",300,300)\n",
    "\n",
    "f.add_button('restart', restart, 100)\n",
    "f.add_button('score', score, 100)\n",
    "f.add_button('higher', higher,100)\n",
    "f.add_button('lower', lower, 100)\n",
    "f.add_button('correct', correct, 100)\n",
    "f.add_button('hannam', hannam, 100)\n",
    "\n",
    "f.add_input(\"number\",input_guess,100)\n",
    "\n",
    "f.start()"
   ]
  },
  {
   "cell_type": "code",
   "execution_count": null,
   "metadata": {},
   "outputs": [],
   "source": []
  }
 ],
 "metadata": {
  "kernelspec": {
   "display_name": "Python 3",
   "language": "python",
   "name": "python3"
  },
  "language_info": {
   "codemirror_mode": {
    "name": "ipython",
    "version": 3
   },
   "file_extension": ".py",
   "mimetype": "text/x-python",
   "name": "python",
   "nbconvert_exporter": "python",
   "pygments_lexer": "ipython3",
   "version": "3.7.1"
  }
 },
 "nbformat": 4,
 "nbformat_minor": 2
}
