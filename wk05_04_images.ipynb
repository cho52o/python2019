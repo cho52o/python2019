{
 "cells": [
  {
   "cell_type": "markdown",
   "metadata": {},
   "source": [
    "# wk05_04 Images"
   ]
  },
  {
   "cell_type": "markdown",
   "metadata": {},
   "source": [
    "### Loading images"
   ]
  },
  {
   "cell_type": "markdown",
   "metadata": {},
   "source": [
    "\n",
    "문서위치: codeskulptor.org --> docs stub --> Graphic Modules --> simpleGUI module - images <br><br> \n",
    "<p style=\"font-family: Courier New; font-size: 1.15em; \">\n",
    "문법: im = simplegui.load_image(URL)<br><br>\n",
    "설명: Loads an image from the specified URL. The image can be in any format supported by the browser. No error is raised if the file isn't found or is of an unsupported format.\n",
    "\n",
    "URL example for map magnifier\n",
    "\n",
    " \"http://commondatastorage.googleapis.com/codeskulptor-assets/gutenberg.jpg\"\n",
    "\n",
    "Tips\n",
    "1. We will provide all images that you need for the class in Google Storage.\n",
    "2. If you wish to create and use your own images, make sure that image is accessible via web.\n",
    "Cut and paste the image into a web browser to test it. Make sure it is downloadable.\n",
    "3. We will show you how to download images from your DropBox account in week six.\n",
    "4. Remember that loading images across the web takes time. The image may not appear\n",
    "immediately the first time you try to load it "
   ]
  },
  {
   "cell_type": "markdown",
   "metadata": {},
   "source": [
    "<br><br>\n",
    "\n",
    "문서위치: codeskulptor.org --> docs stub --> Graphic Modules --> simpleGUI module - canvas <br><br> \n",
    "<p style=\"font-family: Courier New; font-size: 1.15em; \">\n",
    "<span style=\"color:mediumblue\">\n",
    "문법: <b>canvas.draw_image(image, center_source, width_height_source, center_dest, width_height_dest)</b> </span><br><br>\n",
    "설명: Draw an image that was previously loaded. center_source is a pair of coordinates giving the position of the center of the image, while center_dest is a pair of screen coordinates specifying where the center of the image should be drawn on the canvas. width_height_source is a pair of integers giving the size of the original image, while width_height_dest is a pair of integers giving the size of how the images should be drawn. The image can be rotated clockwise by rotation radians.<br>\n",
    "You can draw the whole image file or just part of it. The source information (center_source and width_height_source) specifies which pixels to display. If it attempts to use any pixels outside of the actual file size, then no image will be drawn.<br>\n",
    "Specifying a different width or height in the destination than in the source will rescale the image.<br><br><br>"
   ]
  },
  {
   "cell_type": "markdown",
   "metadata": {},
   "source": [
    "<img style=\"float: left;\" src=\"pic/05_04_01.png\"  width=\"650\">"
   ]
  },
  {
   "cell_type": "markdown",
   "metadata": {},
   "source": [
    "Tips<br>\n",
    "1. Attempting to draw before load finishes causes draw to fail. Execution continues.\n",
    "2. Source rectangle not lying entirely on canvas causes draw to fail. Execution continues."
   ]
  },
  {
   "cell_type": "markdown",
   "metadata": {},
   "source": [
    "<p style=\"font-family: Courier New; font-size: 1.15em; \">\n",
    "코드의 예<br><br>\n",
    "import SimpleGUICS2Pygame.simpleguics2pygame as simplegui<br>\n",
    "def mouse_handler(position):<br>\n",
    "&nbsp;&nbsp;&nbsp;&nbsp;…<br><br>\n",
    "frame = simplegui.create_frame('Testing', 100, 100)<br>\n",
    "frame.set_mouseclick_handler(mouse_handler)<br>\n",
    "frame.start()"
   ]
  },
  {
   "cell_type": "markdown",
   "metadata": {},
   "source": [
    "### Examples of  a map"
   ]
  },
  {
   "cell_type": "code",
   "execution_count": 3,
   "metadata": {},
   "outputs": [],
   "source": [
    "# Demonstration of a magnifier on a map\n",
    "\n",
    "import SimpleGUICS2Pygame.simpleguics2pygame as simplegui\n",
    "\n",
    "# 1521x1818 pixel map of native American language\n",
    "# source - Gutenberg project\n",
    "\n",
    "image = simplegui.load_image(\"http://commondatastorage.googleapis.com/codeskulptor-assets/gutenberg.jpg\")\n",
    "\n",
    "# Image dimensions\n",
    "MAP_WIDTH = 1521\n",
    "MAP_HEIGHT = 1818\n",
    "\n",
    "# Scaling factor\n",
    "SCALE = 3\n",
    "\n",
    "# Canvas size\n",
    "CAN_WIDTH = MAP_WIDTH // SCALE\n",
    "CAN_HEIGHT = MAP_HEIGHT // SCALE\n",
    "\n",
    "# Event handlers\n",
    "\n",
    "# Draw map and magnified region\n",
    "def draw(canvas):\n",
    "    # Draw map\n",
    "    canvas.draw_image(image, \n",
    "            [MAP_WIDTH // 2, MAP_HEIGHT // 2], [MAP_WIDTH, MAP_HEIGHT], \n",
    "            [CAN_WIDTH // 2, CAN_HEIGHT // 2], [CAN_WIDTH, CAN_HEIGHT])\n",
    "\n",
    "    \n",
    "# Create frame for scaled map\n",
    "frame = simplegui.create_frame(\"Map\", CAN_WIDTH, CAN_HEIGHT)\n",
    "\n",
    "# register even handlers\n",
    "frame.set_draw_handler(draw)\n",
    "\n",
    "# Start frame\n",
    "frame.start()\n"
   ]
  },
  {
   "cell_type": "markdown",
   "metadata": {},
   "source": [
    "<br><br><br>\n",
    "<span style=\"color:red\">연습문제 5.4.1 </span> <br><br>\n",
    "asteroid 이미지(http://commondatastorage.googleapis.com/codeskulptor-assets/asteroid.png) 를 load 하여, 마우스를 마지막으로 클릭곳에 이미지 센터가 오도록 하라. 프로그램이 시작 하면, 이미지는 canvas의 중심에 나타나도록 하라. 이미지의 사이즈는 95 x 93 pixels 이다."
   ]
  },
  {
   "cell_type": "code",
   "execution_count": 5,
   "metadata": {},
   "outputs": [],
   "source": [
    "# Image positioning problem\n",
    "\n",
    "###################################################\n",
    "# Student should enter code below\n",
    "\n",
    "import SimpleGUICS2Pygame.simpleguics2pygame as simplegui\n",
    "\n",
    "# global constants\n",
    "WIDTH = 400\n",
    "HEIGHT = 300\n",
    "\n",
    "# load test image\n",
    "\n",
    "\n",
    "# mouseclick handler\n",
    "def click(pos):\n",
    "\n",
    "    \n",
    "# draw handler\n",
    "def draw(canvas):\n",
    "\n",
    "    \n",
    "# create frame and register draw handler    \n",
    "frame = simplegui.create_frame(\"Test image\", WIDTH, HEIGHT)\n",
    "frame.set_canvas_background(\"Gray\")\n",
    "\n",
    "\n",
    "# start frame\n",
    "frame.start()\n",
    "        "
   ]
  }
 ],
 "metadata": {
  "kernelspec": {
   "display_name": "Python 3",
   "language": "python",
   "name": "python3"
  },
  "language_info": {
   "codemirror_mode": {
    "name": "ipython",
    "version": 3
   },
   "file_extension": ".py",
   "mimetype": "text/x-python",
   "name": "python",
   "nbconvert_exporter": "python",
   "pygments_lexer": "ipython3",
   "version": "3.6.5"
  }
 },
 "nbformat": 4,
 "nbformat_minor": 2
}
