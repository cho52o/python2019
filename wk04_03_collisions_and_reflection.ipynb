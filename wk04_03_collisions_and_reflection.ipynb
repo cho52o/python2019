{
 "cells": [
  {
   "cell_type": "markdown",
   "metadata": {},
   "source": [
    "# wk04_03  collisions_and_reflection"
   ]
  },
  {
   "cell_type": "markdown",
   "metadata": {},
   "source": [
    "다음 내용은 mini_project Pong 및 mini_project Astroid 에 필요한 내용이다."
   ]
  },
  {
   "cell_type": "markdown",
   "metadata": {},
   "source": [
    "<img style=\"float: left;\" src=\"pic/04_03_01.png\"  width=\"750\"><br><br><br><br>"
   ]
  },
  {
   "cell_type": "markdown",
   "metadata": {},
   "source": [
    "<br><br><br><br><br><br><br><br>\n",
    "<img style=\"float: left;\" src=\"pic/04_03_02.png\"  width=\"750\">"
   ]
  },
  {
   "cell_type": "markdown",
   "metadata": {},
   "source": [
    "<br><br><br><br><br><br><br><br>\n",
    "<img style=\"float: left;\" src=\"pic/04_03_03.png\"  width=\"800\">"
   ]
  },
  {
   "cell_type": "markdown",
   "metadata": {},
   "source": [
    "<br><br><br><br><br><br><br><br>\n",
    "<img style=\"float: left;\" src=\"pic/04_03_04.png\"  width=\"650\">"
   ]
  },
  {
   "cell_type": "markdown",
   "metadata": {},
   "source": [
    "아래 프로그램은 앞장의 프로그램이다.<br>\n",
    "프로그램을 실행하면 공이 왼쪽으로 계속 진행한다. <br>\n",
    "이 프로그램을 수정하여, 공이 왼쪽 벽에 부딪히면 반사 하도록 프로그램 해 보자.<br>\n",
    "어느 부분의 코드를 손 대야 할까?"
   ]
  },
  {
   "cell_type": "code",
   "execution_count": null,
   "metadata": {},
   "outputs": [],
   "source": [
    "import SimpleGUICS2Pygame.simpleguics2pygame as simplegui\n",
    "\n",
    "# Initialize globals\n",
    "WIDTH = 600\n",
    "HEIGHT = 400\n",
    "BALL_RADIUS = 20\n",
    "\n",
    "ball_pos = [WIDTH / 2, HEIGHT / 2]\n",
    "vel = [-40.0 / 60.0,  5.0 / 60.0]\n",
    "\n",
    "# define event handlers\n",
    "def draw(canvas):\n",
    "    # Update ball position\n",
    "    ball_pos[0] += vel[0]\n",
    "    ball_pos[1] += vel[1]\n",
    "    \n",
    "    \n",
    "    # Draw ball\n",
    "    canvas.draw_circle(ball_pos, BALL_RADIUS, 2, \"Red\", \"White\")\n",
    "\n",
    "# create frame\n",
    "frame = simplegui.create_frame(\"Ball physics\", WIDTH, HEIGHT)\n",
    "\n",
    "# register event handlers\n",
    "frame.set_draw_handler(draw)\n",
    "\n",
    "# start frame\n",
    "frame.start()\n"
   ]
  },
  {
   "cell_type": "code",
   "execution_count": null,
   "metadata": {},
   "outputs": [],
   "source": [
    "import SimpleGUICS2Pygame.simpleguics2pygame as simplegui\n",
    "\n",
    "# Initialize globals\n",
    "WIDTH = 600\n",
    "HEIGHT = 400\n",
    "BALL_RADIUS = 20\n",
    "\n",
    "ball_pos = [WIDTH / 2, HEIGHT / 2]\n",
    "vel = [-40.0 / 60.0,  5.0 / 60.0]\n",
    "\n",
    "# define event handlers\n",
    "def draw(canvas):\n",
    "    # Update ball position\n",
    "    ball_pos[0] += vel[0]\n",
    "    ball_pos[1] += vel[1]\n",
    "    \n",
    "    # collide and reflect off of left hand side of canvas\n",
    "    if ball_pos[0] <= BALL_RADIUS:\n",
    "        vel[0] = - vel[0]\n",
    "\n",
    "    \n",
    "    # Draw ball\n",
    "    canvas.draw_circle(ball_pos, BALL_RADIUS, 2, \"Red\", \"White\")\n",
    "\n",
    "# create frame\n",
    "frame = simplegui.create_frame(\"Ball physics\", WIDTH, HEIGHT)\n",
    "\n",
    "# register event handlers\n",
    "frame.set_draw_handler(draw)\n",
    "\n",
    "# start frame\n",
    "frame.start()\n"
   ]
  }
 ],
 "metadata": {
  "kernelspec": {
   "display_name": "Python 3",
   "language": "python",
   "name": "python3"
  },
  "language_info": {
   "codemirror_mode": {
    "name": "ipython",
    "version": 3
   },
   "file_extension": ".py",
   "mimetype": "text/x-python",
   "name": "python",
   "nbconvert_exporter": "python",
   "pygments_lexer": "ipython3",
   "version": "3.6.5"
  }
 },
 "nbformat": 4,
 "nbformat_minor": 2
}
