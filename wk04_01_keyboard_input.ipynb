{
 "cells": [
  {
   "cell_type": "markdown",
   "metadata": {},
   "source": [
    "# wk04_01  Keyboard Input"
   ]
  },
  {
   "cell_type": "markdown",
   "metadata": {},
   "source": [
    "##  Keyboard echo"
   ]
  },
  {
   "cell_type": "code",
   "execution_count": null,
   "metadata": {},
   "outputs": [],
   "source": [
    "# Keyboard echo\n",
    "\n",
    "import SimpleGUICS2Pygame.simpleguics2pygame as simplegui\n",
    "\n",
    "# initialize state\n",
    "current_key = ' '\n",
    "\n",
    "# event handlers\n",
    "def keydown(key):\n",
    "    global current_key\n",
    "    current_key = chr(key)\n",
    "    \n",
    "def keyup(key):\n",
    "    global current_key\n",
    "    current_key = ' '\n",
    "    \n",
    "def draw(c):\n",
    "    # NOTE draw_text now throws an error on some non-printable characters\n",
    "    # Since keydown event key codes do not all map directly to\n",
    "    # the printable character via ord(), this example now restricts\n",
    "    # keys to alphanumerics\n",
    "    \n",
    "    if current_key in \"ABCDEFGHIJKLMNOPQRSTUVWXYZ0123456789\":\n",
    "        c.draw_text(current_key, [10, 25], 20, \"Red\")    \n",
    "        \n",
    "# create frame             \n",
    "f = simplegui.create_frame(\"Echo\", 35, 35)\n",
    "\n",
    "# register event handlers\n",
    "f.set_keydown_handler(keydown)\n",
    "f.set_keyup_handler(keyup)\n",
    "f.set_draw_handler(draw)\n",
    "\n",
    "# start frame\n",
    "f.start()"
   ]
  },
  {
   "cell_type": "markdown",
   "metadata": {},
   "source": [
    "쉬프트 키를 누르면?<br>\n",
    "이때 보이는 숫자는 무슨 값인가?<br>\n",
    "다른 키도 눌러보자."
   ]
  },
  {
   "cell_type": "markdown",
   "metadata": {},
   "source": [
    "<br><br><br>\n",
    "<span style=\"color:red\">연습문제 4.1 </span> <br><br>\n",
    "위 프로그램을 수정하여, 키를 누르면 알파벳 대신, 그 알파벳의 ASCII 값이  나타나도록 하라.<br>\n",
    "예를 들면, a를 누르면 65 가 나타나야 한다.<br><br><br><br>"
   ]
  },
  {
   "cell_type": "markdown",
   "metadata": {},
   "source": [
    "## arrow key를 이용하여 공을 움직이기"
   ]
  },
  {
   "cell_type": "code",
   "execution_count": null,
   "metadata": {},
   "outputs": [],
   "source": [
    "# control the position of a ball using the arrow keys\n",
    "\n",
    "import SimpleGUICS2Pygame.simpleguics2pygame as simplegui\n",
    "\n",
    "# Initialize globals\n",
    "WIDTH = 600\n",
    "HEIGHT = 400\n",
    "BALL_RADIUS = 20\n",
    "\n",
    "ball_pos = [WIDTH / 2, HEIGHT / 2]\n",
    "\n",
    "# define event handlers\n",
    "def draw(canvas):\n",
    "    canvas.draw_circle(ball_pos, BALL_RADIUS, 2, \"Red\", \"White\")\n",
    "\n",
    "def keydown(key):\n",
    "    vel = 4\n",
    "    if key == simplegui.KEY_MAP[\"left\"]:\n",
    "        ball_pos[0] -= vel\n",
    "    elif key == simplegui.KEY_MAP[\"right\"]:\n",
    "        ball_pos[0] += vel\n",
    "    elif key == simplegui.KEY_MAP[\"down\"]:\n",
    "        ball_pos[1] += vel\n",
    "    elif key == simplegui.KEY_MAP[\"up\"]:\n",
    "        ball_pos[1] -= vel        \n",
    "    \n",
    "# create frame \n",
    "frame = simplegui.create_frame(\"Positional ball control\", WIDTH, HEIGHT)\n",
    "\n",
    "# register event handlers\n",
    "frame.set_draw_handler(draw)\n",
    "frame.set_keydown_handler(keydown)\n",
    "\n",
    "# start frame\n",
    "frame.start()\n"
   ]
  }
 ],
 "metadata": {
  "kernelspec": {
   "display_name": "Python 3",
   "language": "python",
   "name": "python3"
  },
  "language_info": {
   "codemirror_mode": {
    "name": "ipython",
    "version": 3
   },
   "file_extension": ".py",
   "mimetype": "text/x-python",
   "name": "python",
   "nbconvert_exporter": "python",
   "pygments_lexer": "ipython3",
   "version": "3.6.5"
  }
 },
 "nbformat": 4,
 "nbformat_minor": 2
}
