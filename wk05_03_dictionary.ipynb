{
 "cells": [
  {
   "cell_type": "markdown",
   "metadata": {},
   "source": [
    "# wk05_03 Dictionary"
   ]
  },
  {
   "cell_type": "code",
   "execution_count": null,
   "metadata": {},
   "outputs": [],
   "source": [
    "# Cipher\n",
    "\n",
    "import SimpleGUICS2Pygame.simpleguics2pygame as simplegui\n",
    "\n",
    "CIPHER = {'a': 'x', 'b': 'c', 'c': 'r', 'd': 'm', 'e': 'l'}\n",
    "\n",
    "message = \"\"\n",
    "\n",
    "# Encode button\n",
    "def encode():\n",
    "\n",
    "    emsg = \"\"\n",
    "    for ch in message:\n",
    "        emsg += CIPHER[ch]\n",
    "    print(message, \"encodes to\", emsg)\n",
    "\n",
    "# Decode button\n",
    "def decode():\n",
    "\n",
    "    dmsg = \"\"\n",
    "    for ch in message:\n",
    "        for key, value in CIPHER.items():\n",
    "            if ch == value:\n",
    "                dmsg += key\n",
    "    print(message, \"decodes to\", dmsg)\n",
    "\n",
    "# Update message input\n",
    "def newmsg(msg):\n",
    "    global message\n",
    "    message = msg\n",
    "    label.set_text(msg)\n",
    "\n",
    "    \n",
    "# Create a frame and assign callbacks to event handlers\n",
    "frame = simplegui.create_frame(\"Cipher\", 2, 200, 200)\n",
    "frame.add_input(\"Message:\", newmsg, 200)\n",
    "label = frame.add_label(\"\", 200)\n",
    "frame.add_button(\"Encode\", encode)\n",
    "frame.add_button(\"Decode\", decode)\n",
    "\n",
    "# Start the frame animation\n",
    "frame.start()\n"
   ]
  },
  {
   "cell_type": "markdown",
   "metadata": {},
   "source": [
    "<br><br><br>\n",
    "<span style=\"color:red\">연습문제 5.3.1 </span> <br><br>\n",
    "위 프로그램은 5개의 알파벳에만 암호를 적용하였다. 알파벳 전체를 랜덤하게 다른 알파벳으로 매핑하는 암호체계를 만드는 프로그램을 작성하라."
   ]
  }
 ],
 "metadata": {
  "kernelspec": {
   "display_name": "Python 3",
   "language": "python",
   "name": "python3"
  },
  "language_info": {
   "codemirror_mode": {
    "name": "ipython",
    "version": 3
   },
   "file_extension": ".py",
   "mimetype": "text/x-python",
   "name": "python",
   "nbconvert_exporter": "python",
   "pygments_lexer": "ipython3",
   "version": "3.6.5"
  }
 },
 "nbformat": 4,
 "nbformat_minor": 2
}
