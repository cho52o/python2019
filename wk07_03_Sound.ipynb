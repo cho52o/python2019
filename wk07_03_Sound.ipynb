{
 "cells": [
  {
   "cell_type": "markdown",
   "metadata": {},
   "source": [
    "# wk07_03  Sound"
   ]
  },
  {
   "cell_type": "code",
   "execution_count": 2,
   "metadata": {},
   "outputs": [],
   "source": [
    "# simple music player, uses buttons and sounds\n",
    "# note that .ogg sounds are not supported in Safari\n",
    "\n",
    "import SimpleGUICS2Pygame.simpleguics2pygame as simplegui\n",
    "    \n",
    "# define callbacks\n",
    "def play():\n",
    "    \"\"\"play some music, starts at last paused spot\"\"\"\n",
    "    music.play()\n",
    "\n",
    "def pause():\n",
    "    \"\"\"pause the music\"\"\"\n",
    "    music.pause()\n",
    "    laugh.pause()\n",
    "    \n",
    "def rewind():\n",
    "    \"\"\"rewind the music to the beginning \"\"\"\n",
    "    music.rewind()\n",
    "    \n",
    "def laugh():\n",
    "    \"\"\"play an evil laugh\n",
    "    will overlap since it is separate sound object\"\"\"\n",
    "    laugh.play()\n",
    "    \n",
    "def vol_down():\n",
    "    \"\"\"turn the current volume down\"\"\"\n",
    "    global vol\n",
    "    if vol > 0:\n",
    "        vol = vol - 1\n",
    "    music.set_volume(vol / 10.0)\n",
    "    volume_button.set_text(\"Volume = \" + str(vol))\n",
    "    \n",
    "def vol_up():\n",
    "    \"\"\"turn the current volume up\"\"\"\n",
    "    global vol\n",
    "    if vol < 10:\n",
    "        vol = vol + 1\n",
    "    music.set_volume(vol / 10.0)\n",
    "    volume_button.set_text(\"Volume = \" + str(vol))\n",
    "\n",
    "\n",
    "# create frame - canvas will be blank\n",
    "frame = simplegui.create_frame(\"Music demo\", 250, 250, 100)\n",
    "\n",
    "# set up control elements \n",
    "frame.add_button(\"play\", play,100)\n",
    "frame.add_button(\"pause\", pause,100)\n",
    "frame.add_button(\"rewind\",rewind,100)\n",
    "frame.add_button(\"laugh\",laugh,100)\n",
    "frame.add_button(\"Vol down\", vol_down,100)\n",
    "frame.add_button(\"Vol up\", vol_up,100)\n",
    "\n",
    "# initialize volume, create button whose label will display the volume\n",
    "vol = 7\n",
    "volume_button = frame.add_label(\"Volume = \" + str(vol))\n",
    "\n",
    "\n",
    "# load some sounds\n",
    "#music = simplegui.load_sound(\"http://commondatastorage.googleapis.com/codeskulptor-assets/Epoq-Lepidoptera.ogg\")\n",
    "laugh = simplegui.load_sound(\"http://commondatastorage.googleapis.com/codeskulptor-assets/Evillaugh.ogg\")\n",
    "music = simplegui.load_sound(\"http://commondatastorage.googleapis.com/codeskulptor-assets/sounddogs/thrust.ogg\")\n",
    "\n",
    "# make the laugh quieter so my ears don't bleed\n",
    "laugh.set_volume(.1)\n",
    "\n",
    "frame.start()\n",
    "\n"
   ]
  },
  {
   "cell_type": "code",
   "execution_count": null,
   "metadata": {},
   "outputs": [],
   "source": []
  }
 ],
 "metadata": {
  "kernelspec": {
   "display_name": "Python 3",
   "language": "python",
   "name": "python3"
  },
  "language_info": {
   "codemirror_mode": {
    "name": "ipython",
    "version": 3
   },
   "file_extension": ".py",
   "mimetype": "text/x-python",
   "name": "python",
   "nbconvert_exporter": "python",
   "pygments_lexer": "ipython3",
   "version": "3.7.1"
  }
 },
 "nbformat": 4,
 "nbformat_minor": 2
}
