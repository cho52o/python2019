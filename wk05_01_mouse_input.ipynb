{
 "cells": [
  {
   "cell_type": "markdown",
   "metadata": {},
   "source": [
    "# wk05_01 Mouse Input"
   ]
  },
  {
   "cell_type": "markdown",
   "metadata": {},
   "source": [
    "<br><br>\n",
    "\n",
    "문서위치: codeskulptor.org --> docs stub --> Graphic Modules --> simpleGUI module - control objects <br><br> \n",
    "<p style=\"font-family: Courier New; font-size: 1.15em; \">\n",
    "<span style=\"color:mediumblue\">\n",
    "문법: <b>frame.set_mouseclick_handler(mouse_handler)</b> </span><br><br>\n",
    "설명: When a mouse button is clicked, i.e., pressed and released, the mouseclick handler is called once.<br> \n",
    "The handler should be defined with one parameter, as in the following example.<br>\n",
    "This parameter will receive a pair of screen coordinates, i.e., a <span style=\"color:mediumblue\"><b>tuple<b></span> of two non-negative integers.<br><br><br>"
   ]
  },
  {
   "cell_type": "markdown",
   "metadata": {},
   "source": [
    "<p style=\"font-family: Courier New; font-size: 1.15em; \">\n",
    "코드의 예<br><br>\n",
    "import SimpleGUICS2Pygame.simpleguics2pygame as simplegui<br>\n",
    "def mouse_handler(position):<br>\n",
    "&nbsp;&nbsp;&nbsp;&nbsp;…<br><br>\n",
    "frame = simplegui.create_frame('Testing', 100, 100)<br>\n",
    "frame.set_mouseclick_handler(mouse_handler)<br>\n",
    "frame.start()"
   ]
  },
  {
   "cell_type": "markdown",
   "metadata": {},
   "source": [
    "### Examples of red circle"
   ]
  },
  {
   "cell_type": "markdown",
   "metadata": {},
   "source": [
    "기본 Template"
   ]
  },
  {
   "cell_type": "code",
   "execution_count": null,
   "metadata": {},
   "outputs": [],
   "source": [
    "# Examples of mouse input\n",
    "\n",
    "import SimpleGUICS2Pygame.simpleguics2pygame as simplegui\n",
    "import math\n",
    "\n",
    "# intialize globals\n",
    "WIDTH = 450\n",
    "HEIGHT = 300\n",
    "ball_pos = [WIDTH / 2, HEIGHT / 2]\n",
    "BALL_RADIUS = 15\n",
    "ball_color = \"Red\"\n",
    "\n",
    "# helper function\n",
    "def distance(p, q):\n",
    "    pass\n",
    "\n",
    "# define event handler for mouse click, draw\n",
    "def click(pos):\n",
    "    pass\n",
    "\n",
    "def draw(canvas):\n",
    "    canvas.draw_circle(ball_pos, BALL_RADIUS, 1, \"Black\", ball_color)\n",
    "\n",
    "# create frame\n",
    "frame = simplegui.create_frame(\"Mouse selection\", WIDTH, HEIGHT)\n",
    "frame.set_canvas_background(\"White\")\n",
    "\n",
    "# register event handler\n",
    "frame.set_mouseclick_handler(click)\n",
    "frame.set_draw_handler(draw)\n",
    "\n",
    "# start frame\n",
    "frame.start()\n",
    "    "
   ]
  },
  {
   "cell_type": "markdown",
   "metadata": {},
   "source": [
    "<br><br><br>\n",
    "<span style=\"color:red\">연습문제 5.1.1 </span> <br><br>\n",
    "마우스를 클릭하면, 전에 있던 빨간 원(위치가 어디 이든지)이 사라지고, 마우스를 클릭한 자리에 빨간점이 나타나도록 코드를  추가하시오."
   ]
  },
  {
   "cell_type": "code",
   "execution_count": null,
   "metadata": {},
   "outputs": [],
   "source": [
    "# Examples of mouse input\n",
    "\n",
    "import SimpleGUICS2Pygame.simpleguics2pygame as simplegui\n",
    "import math\n",
    "\n",
    "# intialize globals\n",
    "WIDTH = 450\n",
    "HEIGHT = 300\n",
    "ball_pos = [WIDTH / 2, HEIGHT / 2]\n",
    "BALL_RADIUS = 15\n",
    "ball_color = \"Red\"\n",
    "\n",
    "# helper function\n",
    "def distance(p, q):\n",
    "    pass\n",
    "\n",
    "# define event handler for mouse click, draw\n",
    "def click(pos):\n",
    "    global ball_pos\n",
    "    ball_pos = list(pos) #추후 position 값을 바꿀 필요가 있어서 리스트로 저장\n",
    "\n",
    "def draw(canvas):\n",
    "    canvas.draw_circle(ball_pos, BALL_RADIUS, 1, \"Black\", ball_color)\n",
    "\n",
    "# create frame\n",
    "frame = simplegui.create_frame(\"Mouse selection\", WIDTH, HEIGHT)\n",
    "frame.set_canvas_background(\"White\")\n",
    "\n",
    "# register event handler\n",
    "frame.set_mouseclick_handler(click)\n",
    "frame.set_draw_handler(draw)\n",
    "\n",
    "# start frame\n",
    "frame.start()\n",
    "    "
   ]
  },
  {
   "cell_type": "markdown",
   "metadata": {},
   "source": [
    "<br><br><br>\n",
    "<span style=\"color:red\">연습문제 5.1.2 </span> <br><br>\n",
    "빨간 원에 마우스를 클릭하면 초록색으로 바뀌며,<br>\n",
    "빨간 원이 아닌 곳을 클릭하면, 전에 있던 빨간 원이 사라지고, 마우스를 클릭한 자리에 빨간 원이 나타나도록 코드를 수정하시오."
   ]
  },
  {
   "cell_type": "code",
   "execution_count": null,
   "metadata": {},
   "outputs": [],
   "source": [
    "# Examples of red circle\n",
    "\n",
    "import SimpleGUICS2Pygame.simpleguics2pygame as simplegui\n",
    "import math\n",
    "\n",
    "# intialize globals\n",
    "WIDTH = 450\n",
    "HEIGHT = 300\n",
    "ball_pos = [WIDTH / 2, HEIGHT / 2]\n",
    "BALL_RADIUS = 15\n",
    "ball_color = \"Red\"\n",
    "\n",
    "# helper function\n",
    "def distance(p, q):\n",
    "    return math.sqrt( (p[0] - q[0]) ** 2 + (p[1] - q[1]) ** 2)\n",
    "\n",
    "# define event handler for mouse click, draw\n",
    "def click(pos):\n",
    "    global ball_pos, ball_color\n",
    "    if distance(pos, ball_pos) < BALL_RADIUS:\n",
    "        ball_color = \"Green\"\n",
    "    else:\n",
    "        ball_pos = list(pos)\n",
    "        ball_color = \"Red\"\n",
    "\n",
    "def draw(canvas):\n",
    "    canvas.draw_circle(ball_pos, BALL_RADIUS, 1, \"Black\", ball_color)\n",
    "\n",
    "# create frame\n",
    "frame = simplegui.create_frame(\"Mouse selection\", WIDTH, HEIGHT)\n",
    "frame.set_canvas_background(\"White\")\n",
    "\n",
    "# register event handler\n",
    "frame.set_mouseclick_handler(click)\n",
    "frame.set_draw_handler(draw)\n",
    "\n",
    "# start frame\n",
    "frame.start()\n",
    "    "
   ]
  },
  {
   "cell_type": "markdown",
   "metadata": {},
   "source": [
    "<br><br><br>\n",
    "<span style=\"color:red\">연습문제 5.1.3 </span> <br><br>\n",
    "빨간 원에 마우스를 클릭하면 파란색으로 바뀌며,파란 원에 마우스를 클릭하면 빨간색으로 바뀐다.<br>\n",
    "원이 아닌 곳을 클릭하면, 전에 있던 원이 사라지고, 마우스를 클릭한 자리에 가장 최근에 바뀐 색의 원이 나타나도록 코드를 수정하시오."
   ]
  },
  {
   "cell_type": "code",
   "execution_count": null,
   "metadata": {},
   "outputs": [],
   "source": []
  }
 ],
 "metadata": {
  "kernelspec": {
   "display_name": "Python 3",
   "language": "python",
   "name": "python3"
  },
  "language_info": {
   "codemirror_mode": {
    "name": "ipython",
    "version": 3
   },
   "file_extension": ".py",
   "mimetype": "text/x-python",
   "name": "python",
   "nbconvert_exporter": "python",
   "pygments_lexer": "ipython3",
   "version": "3.6.5"
  }
 },
 "nbformat": 4,
 "nbformat_minor": 2
}
