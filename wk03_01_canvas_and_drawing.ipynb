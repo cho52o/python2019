{
 "cells": [
  {
   "cell_type": "markdown",
   "metadata": {},
   "source": [
    "# wk03_01 Canvas and Drawing"
   ]
  },
  {
   "cell_type": "markdown",
   "metadata": {},
   "source": [
    "<br><br><br>\n",
    "<img style=\"float: left;\" src=\"pic/03_01_01.png\"  width=\"450\">"
   ]
  },
  {
   "cell_type": "markdown",
   "metadata": {},
   "source": [
    "<br><br>\n",
    "draw operations<br>\n",
    "문서위치: codeskulptor.org --> docs stub --> Graphic Modules --> simpleGUI module - Canvas <br><br> \n",
    "\n",
    "<p style=\"font-family: Courier New; font-size: 1.15em; \">\n",
    "frame.set_draw_handler    # register draw handler<br><br>\n",
    "canvas.draw_text<br>\n",
    "canvas.draw_line<br>\n",
    "canvas.draw_polyline<br>\n",
    "canvas.draw_poligon<br>\n",
    "canvas.draw_circle<br>\n",
    "canvas.draw_point<br>\n",
    "canvas.draw_image<br>"
   ]
  },
  {
   "cell_type": "markdown",
   "metadata": {},
   "source": [
    "<br><br><br>\n",
    "<img style=\"float: left;\" src=\"pic/03_01_02.png\"  width=\"650\">"
   ]
  },
  {
   "cell_type": "code",
   "execution_count": null,
   "metadata": {},
   "outputs": [],
   "source": [
    "# SimpleGUI program template\n",
    "\n",
    "# Step 1: Import the module\n",
    "import SimpleGUICS2Pygame.simpleguics2pygame as simplegui\n",
    "\n",
    "# Step 2 :Define global variables (program state)\n",
    "\n",
    "# Step 3: Define \"helper\" functions\n",
    "\n",
    "# Step 4: Define event handler functions\n",
    "\n",
    "# Step 5: Create a frame\n",
    "\n",
    "# Step 6: Register event handlers\n",
    "\n",
    "# Step 7: Start frame and timers\n",
    "\n"
   ]
  },
  {
   "cell_type": "markdown",
   "metadata": {},
   "source": [
    "<br><br>\n",
    "\n",
    "문서위치: codeskulptor.org --> docs stub --> Graphic Modules --> simpleGUI module - canvas <br><br> \n",
    "<p style=\"font-family: Courier New; font-size: 1.15em; \">\n",
    "<span style=\"color:mediumblue\">\n",
    "문법: <b>frame.set_draw_handler(draw_handler)</b> </span><br><br>\n",
    "설명: Adds an event handler that is responsible for all drawing.<br><br>\n",
    "주의:The handler should be defined with one parameter, as in the following example. This parameter will receive a canvas object.<br><br><br>"
   ]
  },
  {
   "cell_type": "code",
   "execution_count": null,
   "metadata": {},
   "outputs": [],
   "source": [
    "import SimpleGUICS2Pygame.simpleguics2pygame as simplegui\n",
    "\n",
    "def draw_handler(canvas):   \n",
    "    pass\n",
    "\n",
    "frame = simplegui.create_frame('Testing', 100, 100)\n",
    "frame.set_draw_handler(draw_handler)\n",
    "frame.start()"
   ]
  },
  {
   "cell_type": "markdown",
   "metadata": {},
   "source": [
    "<br><br>\n",
    "\n",
    "문서위치: codeskulptor.org --> docs stub --> Graphic Modules --> simpleGUI module - canvas <br><br> \n",
    "<p style=\"font-family: Courier New; font-size: 1.15em; \">\n",
    "<span style=\"color:mediumblue\">\n",
    "문법: <b>canvas.draw_text(text, point, font_size, font_color)</b> </span><br><br>\n",
    "설명: Writes the given text string in the given font size, color, and font face. The point is a 2-element tuple or list of screen coordinates representing the lower-left-hand corner of where to write the text.\n"
   ]
  },
  {
   "cell_type": "code",
   "execution_count": null,
   "metadata": {},
   "outputs": [],
   "source": [
    "import SimpleGUICS2Pygame.simpleguics2pygame as simplegui\n",
    "\n",
    "def draw_handler(canvas):\n",
    "    canvas.draw_text('A', (20, 20), 12, 'Red')\n",
    "    canvas.draw_text('B', [30, 50], 20, 'Blue')\n",
    "    canvas.draw_text('C', (80, 50), 12, 'Gray', 'serif')\n",
    "\n",
    "frame = simplegui.create_frame('Testing', 100, 100)\n",
    "frame.set_draw_handler(draw_handler)\n",
    "frame.start()"
   ]
  },
  {
   "cell_type": "markdown",
   "metadata": {},
   "source": [
    "<br><br>\n",
    "\n",
    "문서위치: codeskulptor.org --> docs stub --> Graphic Modules --> simpleGUI module - canvas <br><br> \n",
    "<p style=\"font-family: Courier New; font-size: 1.15em; \">\n",
    "<span style=\"color:mediumblue\">\n",
    "문법: <b>canvas.draw_circle(center_point, radius, line_width, line_color)</b> </span><br><br>\n",
    "문법: <b>canvas.draw_circle(center_point, radius, line_width, line_color, fill_color = color)</b> </span><br><br>\n",
    "설명: Draws a circle at the given center point having the given radius. The point is a 2-element tuple or list of screen coordinates. The line's width is given in pixels and must be positive. The fill color defaults to None. If the fill color is specified, then the interior of the circle is colored.<br><br>"
   ]
  },
  {
   "cell_type": "code",
   "execution_count": null,
   "metadata": {},
   "outputs": [],
   "source": [
    "import SimpleGUICS2Pygame.simpleguics2pygame as simplegui\n",
    "\n",
    "def draw_handler(canvas):\n",
    "    canvas.draw_circle((10, 10), 20, 12, 'Green')\n",
    "    canvas.draw_circle([20, 30], 30, 12, 'Red')\n",
    "    canvas.draw_circle((50, 50), 20, 5, 'Blue', 'White')\n",
    "    canvas.draw_circle([70, 80], 30, 10, 'Yellow', 'Orange')\n",
    "\n",
    "frame = simplegui.create_frame('Testing', 100, 100)\n",
    "frame.set_draw_handler(draw_handler)\n",
    "frame.start()"
   ]
  },
  {
   "cell_type": "code",
   "execution_count": null,
   "metadata": {},
   "outputs": [],
   "source": [
    "# first example of drawing on the canvas\n",
    "\n",
    "import SimpleGUICS2Pygame.simpleguics2pygame as simplegui\n",
    "\n",
    "# define draw handler\n",
    "def draw(canvas):\n",
    "    canvas.draw_text(\"Hello!\",[100, 100], 24, \"White\")\n",
    "    canvas.draw_circle([100, 100], 2, 2, \"Red\")\n",
    "\n",
    "# create frame\n",
    "frame = simplegui.create_frame(\"Text drawing\", 300, 200)\n",
    "\n",
    "# register draw handler    \n",
    "frame.set_draw_handler(draw)\n",
    "\n",
    "# start frame\n",
    "frame.start()"
   ]
  },
  {
   "cell_type": "markdown",
   "metadata": {},
   "source": [
    "<br><br><br>\n",
    "<span style=\"color:red\">연습문제 3.1 </span> <br><br>\n",
    "입력된 알파벳이 canvas에 나타나도록 프로그램하세요. "
   ]
  },
  {
   "cell_type": "code",
   "execution_count": null,
   "metadata": {},
   "outputs": [],
   "source": [
    "# SimpleGUI program template\n",
    "\n",
    "# Step 1: Import the module\n",
    "import SimpleGUICS2Pygame.simpleguics2pygame as simplegui\n",
    "\n",
    "# Step 2 :Define global variables (program state)\n",
    "\n",
    "# Step 3: Define \"helper\" functions\n",
    "\n",
    "# Step 4: Define event handler functions\n",
    "\n",
    "# Step 5: Create a frame\n",
    "\n",
    "# Step 6: Register event handlers\n",
    "\n",
    "# Step 7: Start frame and timers\n",
    "\n"
   ]
  },
  {
   "cell_type": "markdown",
   "metadata": {},
   "source": [
    "###  Echo"
   ]
  },
  {
   "cell_type": "code",
   "execution_count": null,
   "metadata": {},
   "outputs": [],
   "source": [
    "# Canvas and Drawing\n",
    "# Echo\n",
    "\n",
    "\n",
    "# Text output can be used with strings to put the results \n",
    "#\tof functions on the canvas rather than in the box to \n",
    "#\tthe right. Here is a simple echo program to show that\n",
    "#\tin action. Note that it can only display the parts of\n",
    "#\tmessages that fit in the canvas.\n",
    "\n",
    "import SimpleGUICS2Pygame.simpleguics2pygame as simplegui\n",
    "import math\n",
    "\n",
    "# Global Variables\n",
    "\n",
    "canvas_width = 800\n",
    "canvas_height = 100\n",
    "message = \"\"\n",
    "\n",
    "# Event Handlers\n",
    "\n",
    "def echo(text):\n",
    "    global message\n",
    "    message = text\n",
    "        \n",
    "def draw(canvas):\n",
    "    canvas.draw_text(message, (50, 60), 20, \"Lime\")\n",
    "\n",
    "# Frame\n",
    "\n",
    "frame = simplegui.create_frame(\"Pictures\", canvas_width, canvas_height) \n",
    "\n",
    "# Register Event Handlers\n",
    "\n",
    "frame.set_draw_handler(draw)\n",
    "frame.add_input(\"Echo\", echo, 100)\n",
    "\n",
    "# Remember to start the frame\n",
    "frame.start()"
   ]
  },
  {
   "cell_type": "markdown",
   "metadata": {},
   "source": [
    "<br><br><br>\n",
    "<span style=\"color:red\">연습문제 3.2 </span> <br><br>\n",
    "입력된 알파벳을 모두 대문자로 바꾸어 canvas에 나타나도록 프로그램을 수정하세요. "
   ]
  }
 ],
 "metadata": {
  "kernelspec": {
   "display_name": "Python 3",
   "language": "python",
   "name": "python3"
  },
  "language_info": {
   "codemirror_mode": {
    "name": "ipython",
    "version": 3
   },
   "file_extension": ".py",
   "mimetype": "text/x-python",
   "name": "python",
   "nbconvert_exporter": "python",
   "pygments_lexer": "ipython3",
   "version": "3.7.0"
  }
 },
 "nbformat": 4,
 "nbformat_minor": 2
}
