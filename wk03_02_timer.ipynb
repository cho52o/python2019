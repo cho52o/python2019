{
 "cells": [
  {
   "cell_type": "markdown",
   "metadata": {},
   "source": [
    "# wk03_02 Timer"
   ]
  },
  {
   "cell_type": "markdown",
   "metadata": {},
   "source": [
    "타이머가 그래픽 프로그램에 어떠한 영향을 끼치는지를 설명하기위해, 간단한 화면보호기( screen saver) 프로그램을 작성해보자. "
   ]
  },
  {
   "cell_type": "code",
   "execution_count": null,
   "metadata": {},
   "outputs": [],
   "source": [
    "# Simple \"screensaver\" program.\n",
    "\n",
    "# Import modules\n",
    "import SimpleGUICS2Pygame.simpleguics2pygame as simplegui\n",
    "import random\n",
    "\n",
    "# Global state\n",
    "message = \"Python is Fun!\"\n",
    "position = [50, 50]\n",
    "width = 500\n",
    "height = 500\n",
    "interval = 2000\n",
    "\n",
    "# Handler for text box\n",
    "def update(text):\n",
    "    global message\n",
    "    message = text\n",
    "    \n",
    "# Handler for timer\n",
    "def tick():\n",
    "    x = random.randrange(0, width)\n",
    "    y = random.randrange(0, height)\n",
    "    position[0] = x\n",
    "    position[1] = y\n",
    "\n",
    "# Handler to draw on canvas\n",
    "def draw(canvas):\n",
    "    canvas.draw_text(message, position, 36, \"Red\")\n",
    "\n",
    "# Create a frame \n",
    "frame = simplegui.create_frame(\"Home\", width, height)\n",
    "\n",
    "# Register event handlers\n",
    "text = frame.add_input(\"Message:\", update, 150)\n",
    "frame.set_draw_handler(draw)\n",
    "timer = simplegui.create_timer(interval, tick)\n",
    "\n",
    "# Start the frame animation\n",
    "frame.start()\n",
    "timer.start()\n"
   ]
  },
  {
   "cell_type": "markdown",
   "metadata": {},
   "source": [
    "<span style=\"color:red\">**tick handler는 text를 화면에 나타내지 않는다!**</span>\n",
    "* All that tick handler does, is to set a new position every two seconds. \n",
    "* There is no need to draw the text, that's not the job of the TickHandler. \n",
    "* The job of the Tickhandler is , if two seconds have elapsed, I am going to move the position where the text should be drawn at."
   ]
  },
  {
   "cell_type": "markdown",
   "metadata": {},
   "source": [
    "<span style=\"color:red\">**draw handler가 실제로 화면에 (뭔가를) 그린다. (1/60 초마다)**</span>  (마치 무궁화꽃이 피었습니다 놀이처럼)<br>\n",
    "* It takes our message, message is another global variable, \n",
    "* It draws the message at a given position, position is our global variable that we modified in the tick handler.\n",
    "* The draw handler does not update them, and it does not care if anyone else updates them. It just uses them."
   ]
  },
  {
   "cell_type": "markdown",
   "metadata": {},
   "source": [
    "그러면, tick handler와 draw handler 사이의 연결은 어떻게 하나?<br>\n",
    "<span style=\"color:red\">**global variable**</span>"
   ]
  },
  {
   "cell_type": "markdown",
   "metadata": {},
   "source": [
    "* tick handler는 drawing 에 신경쓰지 않고, draw handler는 text가 무엇이든, 어떻게 변하든 신경쓰지 않고, 그려야 되는 위치를 어떻게 바꾸든지 신경쓰지 않는다. "
   ]
  },
  {
   "cell_type": "markdown",
   "metadata": {},
   "source": [
    "* 아래 다시 프로그램을 실행하여, 메세지를 바꾸어보자. (이 경우 프로그램을 step by step 설명)"
   ]
  },
  {
   "cell_type": "code",
   "execution_count": null,
   "metadata": {},
   "outputs": [],
   "source": [
    "# Simple \"screensaver\" program.\n",
    "\n",
    "# Import modules\n",
    "import SimpleGUICS2Pygame.simpleguics2pygame as simplegui\n",
    "import random\n",
    "\n",
    "# Global state\n",
    "message = \"Python is Fun!\"\n",
    "position = [50, 50]\n",
    "width = 500\n",
    "height = 500\n",
    "interval = 2000\n",
    "\n",
    "# Handler for text box\n",
    "def update(text):\n",
    "    global message\n",
    "    message = text\n",
    "    \n",
    "# Handler for timer\n",
    "def tick():\n",
    "    x = random.randrange(0, width)\n",
    "    y = random.randrange(0, height)\n",
    "    position[0] = x\n",
    "    position[1] = y\n",
    "\n",
    "# Handler to draw on canvas\n",
    "def draw(canvas):\n",
    "    canvas.draw_text(message, position, 36, \"Red\")\n",
    "\n",
    "# Create a frame \n",
    "frame = simplegui.create_frame(\"Home\", width, height)\n",
    "\n",
    "# Register event handlers\n",
    "text = frame.add_input(\"Message:\", update, 150)\n",
    "frame.set_draw_handler(draw)\n",
    "timer = simplegui.create_timer(interval, tick)\n",
    "\n",
    "# Start the frame animation\n",
    "timer.start()\n",
    "frame.start()\n",
    "\n"
   ]
  },
  {
   "cell_type": "markdown",
   "metadata": {},
   "source": [
    "<br><br><br>\n",
    "<span style=\"color:red\">연습문제 1.1 </span> <br><br>\n",
    "메세지가 3초마다 나타나도록 코딩 하세요."
   ]
  },
  {
   "cell_type": "markdown",
   "metadata": {},
   "source": [
    "<br><br><br>\n",
    "<span style=\"color:red\">연습문제 1.2 </span> <br><br>\n",
    "메세지가 노란색으로 나타나도록 코딩 하세요."
   ]
  },
  {
   "cell_type": "markdown",
   "metadata": {},
   "source": [
    "<br><br><br>\n",
    "<span style=\"color:red\">연습문제 1.3 </span> <br><br>\n",
    "메세지가 빨간색, 노란색으로 교대로 나타나도록 코딩 하세요."
   ]
  },
  {
   "cell_type": "markdown",
   "metadata": {},
   "source": [
    "<br><br><br>\n",
    "<span style=\"color:red\">연습문제 1.4 </span> <br><br>\n",
    "메세지가 매 2초마다 빨간색,노란색, 하얀색중 랜덤한 색깔로 나타나도록 코딩 하세요."
   ]
  },
  {
   "cell_type": "markdown",
   "metadata": {},
   "source": [
    "<br><br><br>\n",
    "<span style=\"color:red\">연습문제 1.5 </span> <br><br>\n",
    "타이머 2개를 사용하여, 하나는 1초마다 \"Hello!\"를 인쇄하고, 하나는 0.5초마다 \"Hannam!\"을 인쇄하도록 코딩 하세요."
   ]
  },
  {
   "cell_type": "markdown",
   "metadata": {},
   "source": [
    "<br><br><br>\n",
    "<span style=\"color:red\">연습문제 1.6 </span> <br><br>\n",
    "메세지가 사라지지 않고 계속 화면에 덧붙혀 지도록 코딩하세요."
   ]
  },
  {
   "cell_type": "code",
   "execution_count": null,
   "metadata": {},
   "outputs": [],
   "source": []
  },
  {
   "cell_type": "markdown",
   "metadata": {},
   "source": [
    "### Blinking text"
   ]
  },
  {
   "cell_type": "code",
   "execution_count": null,
   "metadata": {},
   "outputs": [],
   "source": [
    "\n",
    "import SimpleGUICS2Pygame.simpleguics2pygame as simplegui\n",
    "\n",
    "# Global Variables\n",
    "\n",
    "canvas_width = 600\n",
    "canvas_height = 100\n",
    "message = \"Hello!\"\n",
    "displayed = True\n",
    "timer_interval = 1000 # In milliseconds (1000 ms = 1 s)\n",
    "\n",
    "# Event Handlers\n",
    "\n",
    "def input_handler(text):\n",
    "    global message\n",
    "    message = text\n",
    "   \n",
    "# Switches whether or not the text is visible    \n",
    "# Note that it does not have any parameters\n",
    "def timer_handler():\n",
    "    global displayed\n",
    "    displayed = not displayed\n",
    "        \n",
    "def draw(canvas):\n",
    "    if displayed:\n",
    "        canvas.draw_text(message, [10, 65], 30, \"Aqua\")\n",
    "\n",
    "# Frame\n",
    "\n",
    "frame = simplegui.create_frame(\"Blinking Text\", canvas_width, canvas_height) \n",
    "\n",
    "# Register Event Handlers\n",
    "\n",
    "frame.set_draw_handler(draw)\n",
    "frame.add_input(\"Your message:\", input_handler, 100)\n",
    "\n",
    "# Creates a timer. Check the docs for more details.\n",
    "timer = simplegui.create_timer(timer_interval, timer_handler)\n",
    "\n",
    "# Remember to start the timer as well as the frame\n",
    "timer.start()\n",
    "frame.start()\n"
   ]
  },
  {
   "cell_type": "code",
   "execution_count": null,
   "metadata": {},
   "outputs": [],
   "source": []
  }
 ],
 "metadata": {
  "kernelspec": {
   "display_name": "Python 3",
   "language": "python",
   "name": "python3"
  },
  "language_info": {
   "codemirror_mode": {
    "name": "ipython",
    "version": 3
   },
   "file_extension": ".py",
   "mimetype": "text/x-python",
   "name": "python",
   "nbconvert_exporter": "python",
   "pygments_lexer": "ipython3",
   "version": "3.6.5"
  }
 },
 "nbformat": 4,
 "nbformat_minor": 2
}
