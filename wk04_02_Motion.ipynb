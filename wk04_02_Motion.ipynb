{
 "cells": [
  {
   "cell_type": "markdown",
   "metadata": {},
   "source": [
    "# wk_04_02  Motion"
   ]
  },
  {
   "cell_type": "markdown",
   "metadata": {},
   "source": [
    "position = velocity * time"
   ]
  },
  {
   "cell_type": "markdown",
   "metadata": {},
   "source": [
    "### Ball motion with an explicit timer\n"
   ]
  },
  {
   "cell_type": "code",
   "execution_count": null,
   "metadata": {},
   "outputs": [],
   "source": [
    "# Ball motion with an explicit timer\n",
    "\n",
    "import SimpleGUICS2Pygame.simpleguics2pygame as simplegui\n",
    "\n",
    "# Initialize globals\n",
    "WIDTH = 600\n",
    "HEIGHT = 400\n",
    "BALL_RADIUS = 20\n",
    "\n",
    "init_pos = [WIDTH / 2, HEIGHT / 2]\n",
    "vel = [0, 3]  # pixels per tick\n",
    "time = 0\n",
    "\n",
    "# define event handlers\n",
    "def tick():\n",
    "    global time\n",
    "    time = time + 1\n",
    "\n",
    "def draw(canvas):\n",
    "    # create a list to hold ball position\n",
    "    ball_pos = [0, 0]\n",
    "\n",
    "    # calculate ball position\n",
    "    ball_pos[0] = init_pos[0] + time * vel[0]\n",
    "    ball_pos[1] = init_pos[1] + time * vel[1]\n",
    "    \n",
    "    # draw ball\n",
    "    canvas.draw_circle(ball_pos, BALL_RADIUS, 2, \"Red\", \"White\")\n",
    "\n",
    "# create frame\n",
    "frame = simplegui.create_frame(\"Motion\", WIDTH, HEIGHT)\n",
    "\n",
    "# register event handlers\n",
    "frame.set_draw_handler(draw)\n",
    "\n",
    "timer = simplegui.create_timer(100, tick)\n",
    "\n",
    "# start frame\n",
    "frame.start()\n",
    "timer.start()\n"
   ]
  },
  {
   "cell_type": "markdown",
   "metadata": {},
   "source": [
    "###  points and vector"
   ]
  },
  {
   "cell_type": "markdown",
   "metadata": {},
   "source": [
    "<img style=\"float: left;\" src=\"pic/04_02_01.png\"  width=\"450\">"
   ]
  },
  {
   "cell_type": "markdown",
   "metadata": {},
   "source": [
    "### Ball motion with an implicit timer"
   ]
  },
  {
   "cell_type": "code",
   "execution_count": null,
   "metadata": {},
   "outputs": [],
   "source": [
    "# Ball motion with an implicit timer\n",
    "\n",
    "import SimpleGUICS2Pygame.simpleguics2pygame as simplegui\n",
    "\n",
    "# Initialize globals\n",
    "WIDTH = 600\n",
    "HEIGHT = 400\n",
    "BALL_RADIUS = 20\n",
    "\n",
    "ball_pos = [WIDTH / 2, HEIGHT / 2]\n",
    "vel = [0, 1] # pixels per update (1/60 seconds)\n",
    "\n",
    "# define event handlers\n",
    "def draw(canvas):\n",
    "    # Update ball position\n",
    "    ball_pos[0] += vel[0]\n",
    "    ball_pos[1] += vel[1]\n",
    "\n",
    "    # Draw ball\n",
    "    canvas.draw_circle(ball_pos, BALL_RADIUS, 2, \"Red\", \"White\")\n",
    "\n",
    "# create frame\n",
    "frame = simplegui.create_frame(\"Motion\", WIDTH, HEIGHT)\n",
    "\n",
    "# register event handlers\n",
    "frame.set_draw_handler(draw)\n",
    "\n",
    "# start frame\n",
    "frame.start()\n"
   ]
  }
 ],
 "metadata": {
  "kernelspec": {
   "display_name": "Python 3",
   "language": "python",
   "name": "python3"
  },
  "language_info": {
   "codemirror_mode": {
    "name": "ipython",
    "version": 3
   },
   "file_extension": ".py",
   "mimetype": "text/x-python",
   "name": "python",
   "nbconvert_exporter": "python",
   "pygments_lexer": "ipython3",
   "version": "3.6.5"
  }
 },
 "nbformat": 4,
 "nbformat_minor": 2
}
