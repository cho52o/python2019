{
 "cells": [
  {
   "cell_type": "markdown",
   "metadata": {},
   "source": [
    "#  wk04_04  keyboard  control"
   ]
  },
  {
   "cell_type": "markdown",
   "metadata": {},
   "source": [
    "다음은 wk_04_01 에서 설명한  arrow key를 이용하여 공을 움직이기 프로그램이다."
   ]
  },
  {
   "cell_type": "code",
   "execution_count": null,
   "metadata": {},
   "outputs": [],
   "source": [
    "# control the position of a ball using the arrow keys\n",
    "\n",
    "import SimpleGUICS2Pygame.simpleguics2pygame as simplegui\n",
    "\n",
    "# Initialize globals\n",
    "WIDTH = 600\n",
    "HEIGHT = 400\n",
    "BALL_RADIUS = 20\n",
    "\n",
    "ball_pos = [WIDTH / 2, HEIGHT / 2]\n",
    "\n",
    "# define event handlers\n",
    "def draw(canvas):\n",
    "    canvas.draw_circle(ball_pos, BALL_RADIUS, 2, \"Red\", \"White\")\n",
    "\n",
    "def keydown(key):\n",
    "    vel = 4\n",
    "    if key == simplegui.KEY_MAP[\"left\"]:\n",
    "        ball_pos[0] -= vel\n",
    "    elif key == simplegui.KEY_MAP[\"right\"]:\n",
    "        ball_pos[0] += vel\n",
    "    elif key == simplegui.KEY_MAP[\"down\"]:\n",
    "        ball_pos[1] += vel\n",
    "    elif key == simplegui.KEY_MAP[\"up\"]:\n",
    "        ball_pos[1] -= vel        \n",
    "    \n",
    "# create frame \n",
    "frame = simplegui.create_frame(\"Positional ball control\", WIDTH, HEIGHT)\n",
    "\n",
    "# register event handlers\n",
    "frame.set_draw_handler(draw)\n",
    "frame.set_keydown_handler(keydown)\n",
    "\n",
    "# start frame\n",
    "frame.start()\n"
   ]
  },
  {
   "cell_type": "markdown",
   "metadata": {},
   "source": [
    "### control the velocity of a ball using the arrow keys"
   ]
  },
  {
   "cell_type": "code",
   "execution_count": null,
   "metadata": {},
   "outputs": [],
   "source": [
    "# control the velocity of a ball using the arrow keys\n",
    "\n",
    "import SimpleGUICS2Pygame.simpleguics2pygame as simplegui\n",
    "\n",
    "# Initialize globals\n",
    "WIDTH = 600\n",
    "HEIGHT = 400\n",
    "BALL_RADIUS = 20\n",
    "\n",
    "ball_pos = [WIDTH / 2, HEIGHT / 2]\n",
    "vel = [0, 0]\n",
    "\n",
    "# define event handlers\n",
    "def draw(canvas):\n",
    "    # Update ball position\n",
    "    ball_pos[0] += vel[0]\n",
    "    ball_pos[1] += vel[1]\n",
    "\n",
    "    # Draw ball\n",
    "    canvas.draw_circle(ball_pos, BALL_RADIUS, 2, \"Red\", \"White\")\n",
    "\n",
    "def keydown(key):\n",
    "    acc = 1\n",
    "    if key==simplegui.KEY_MAP[\"left\"]:\n",
    "        vel[0] -= acc\n",
    "    elif key==simplegui.KEY_MAP[\"right\"]:\n",
    "        vel[0] += acc\n",
    "    elif key==simplegui.KEY_MAP[\"down\"]:\n",
    "        vel[1] += acc\n",
    "    elif key==simplegui.KEY_MAP[\"up\"]:\n",
    "        vel[1] -= acc\n",
    "        \n",
    "    print(ball_pos)\n",
    "    \n",
    "# create frame \n",
    "frame = simplegui.create_frame(\"Velocity ball control\", WIDTH, HEIGHT)\n",
    "\n",
    "# register event handlers\n",
    "frame.set_draw_handler(draw)\n",
    "frame.set_keydown_handler(keydown)\n",
    "\n",
    "# start frame\n",
    "frame.start()\n"
   ]
  },
  {
   "cell_type": "markdown",
   "metadata": {},
   "source": [
    "<br><br><br>\n",
    "<span style=\"color:red\">연습문제 4.4.1 </span> <br><br>\n",
    "키보드에서 위쪽으로 화살표 키를 누르면 <span style=\"color:red\">\"Pressed up arrow\"</span> 이 canvas 에 표시되고, 아래쪽으로 화살표 키를 누르면 <span style=\"color:red\">\"Pressed down arrow\"</span> 이 표시되는 프로그램을 아래에 작성하였다. 프로그램을 디버깅하여 틀린부분을 바로 잡아라. "
   ]
  },
  {
   "cell_type": "code",
   "execution_count": null,
   "metadata": {},
   "outputs": [],
   "source": [
    "# Key board debugging - debug and fix the code below\n",
    "\n",
    "import SimpleGUICS2Pygame.simpleguics2pygame as simplegui\n",
    "\n",
    "message = \"Welcome!\"\n",
    "\n",
    "# Handler for keydown\n",
    "def keydown(key):\n",
    "    global message\n",
    "    if key == \"up\":\n",
    "        message = \"Up arrow\"\n",
    "    elif key == \"down\":\n",
    "        message = \"Down arrow\"\n",
    "\n",
    "# Handler to draw on canvas\n",
    "def draw(canvas):\n",
    "    canvas.draw_text(message, [50,112], 48, \"Red\")\n",
    "\n",
    "# Create a frame and assign callbacks to event handlers\n",
    "frame = simplegui.create_frame(\"Home\", 300, 200)\n",
    "frame.set_draw_handler(draw)\n",
    "\n",
    "# Start the frame animation\n",
    "frame.start()"
   ]
  },
  {
   "cell_type": "markdown",
   "metadata": {},
   "source": [
    "<br><br><br>\n",
    "<span style=\"color:red\">연습문제 4.4.2 </span> <br><br>\n",
    "키보드에서 위쪽으로 화살표 키를 누를 때 마다 canvas의 중앙에 있는 하얀 공의 크기가 조금씩 커지고, 아래쪽으로 화살표 키를 누를 때 마다 조금씩 작아지도록 아래 프로그램을 완성하라. 추가 되는 코드는 keydown handler에 위치 하여야 한다. (만일 공의 크기가 0 이하로 감소 되면 <span style=\"color:red\">draw_circle</span> 에서 에러가 발생한다.) "
   ]
  },
  {
   "cell_type": "code",
   "execution_count": 6,
   "metadata": {},
   "outputs": [],
   "source": [
    "# Ball radius control - version 1\n",
    "\n",
    "import SimpleGUICS2Pygame.simpleguics2pygame as simplegui\n",
    "\n",
    "WIDTH = 300\n",
    "HEIGHT = 200\n",
    "ball_radius = 50\n",
    "BALL_RADIUS_INC = 3\n",
    "\n",
    "# Handler for keydown\n",
    "def keydown(key):\n",
    "    global ball_radius\n",
    "    \n",
    "    # Add code here to control ball_radius\n",
    "\n",
    "# Handler to draw on canvas\n",
    "def draw(canvas):\n",
    "    # note that CodeSkulptor throws an error if radius is not positive\n",
    "    canvas.draw_circle([WIDTH / 2, HEIGHT / 2], ball_radius, 1, \"White\", \"White\")\n",
    "\n",
    "# Create a frame and assign callbacks to event handlers\n",
    "frame = simplegui.create_frame(\"Home\", 300, 200)\n",
    "frame.set_keydown_handler(keydown)\n",
    "frame.set_draw_handler(draw)\n",
    "\n",
    "# Start the frame animation\n",
    "frame.start()"
   ]
  },
  {
   "cell_type": "markdown",
   "metadata": {},
   "source": [
    "<br><br><br>\n",
    "<span style=\"color:red\">연습문제 4.4.3 </span> <br><br>\n",
    "키보드에서 space bar 키를 누르면 <span style=\"color:red\">\"Space bar down\"</span> 이 canvas 에 표시되고, 손을 떼서 space bar 키가 올라오면 <span style=\"color:red\">\"Space bar up\"</span> 이 표시되는 프로그램을 아래에 작성하였다. 프로그램을 디버깅하여 틀린부분을 바로 잡아라. "
   ]
  },
  {
   "cell_type": "code",
   "execution_count": 10,
   "metadata": {},
   "outputs": [],
   "source": [
    "# Space bar status\n",
    "\n",
    "import SimpleGUICS2Pygame.simpleguics2pygame as simplegui\n",
    "\n",
    "message = \"Space bar up\"\n",
    "\n",
    "# Handlers for keydown and keyup\n",
    "def keydown(key):\n",
    "    global message\n",
    "\n",
    "    # add code here\n",
    "\n",
    "\n",
    "def keyup(key):\n",
    "    global message\n",
    "\n",
    "    # add code here \n",
    "\n",
    "\n",
    "# Handler to draw on canvas\n",
    "def draw(canvas):\n",
    "    canvas.draw_text(message, [25, 112], 42, \"Red\")\n",
    "\n",
    "# Create a frame and assign callbacks to event handlers\n",
    "frame = simplegui.create_frame(\"Home\", 400, 300)\n",
    "frame.set_keydown_handler(keydown)\n",
    "frame.set_keyup_handler(keyup)\n",
    "frame.set_draw_handler(draw)\n",
    "\n",
    "# Start the frame animation\n",
    "frame.start()\n"
   ]
  },
  {
   "cell_type": "markdown",
   "metadata": {},
   "source": [
    "<br><br><br>\n",
    "<span style=\"color:red\">연습문제 4.4.4 </span> <br><br>\n",
    "키보드에서 위쪽으로 화살표 키를 누르고 있으면 canvas의 중앙에 있는 하얀 공의 크기가 계속해서 조금씩 커지다가, 손을 떼면 크기 증가가 멈추는 아래 프로그램을 완성하라. 추가 되는 코드는 keydown handler, keyup handlers 및 draw handler 에 위치 하여야 한다."
   ]
  },
  {
   "cell_type": "code",
   "execution_count": 11,
   "metadata": {},
   "outputs": [],
   "source": [
    "# Ball radius control - version 2\n",
    "\n",
    "import SimpleGUICS2Pygame.simpleguics2pygame as simplegui\n",
    "\n",
    "WIDTH = 300\n",
    "HEIGHT = 200\n",
    "ball_radius = 10\n",
    "ball_growth = 0\n",
    "BALL_GROWTH_INC = .2\n",
    "\n",
    "# Handlers for keydown and keyup\n",
    "def keydown(key):\n",
    "    global ball_growth\n",
    "   \n",
    "    # add code here\n",
    "\n",
    "def keyup(key):\n",
    "    global ball_growth\n",
    "\n",
    "    # add code here\n",
    "    \n",
    "    \n",
    "# Handler to draw on canvas\n",
    "def draw(canvas):\n",
    "    global ball_radius\n",
    "\n",
    "    # add code here\n",
    "\n",
    "    # note that CodeSkulptor throws an error if radius is not positive\n",
    "    canvas.draw_circle([WIDTH / 2, HEIGHT / 2], ball_radius, 1, \"White\", \"White\")\n",
    "\n",
    "# Create a frame and assign callbacks to event handlers\n",
    "frame = simplegui.create_frame(\"Home\", 300, 200)\n",
    "frame.set_keydown_handler(keydown)\n",
    "frame.set_keyup_handler(keyup)\n",
    "\n",
    "frame.set_draw_handler(draw)\n",
    "\n",
    "# Start the frame animation\n",
    "frame.start()\n"
   ]
  },
  {
   "cell_type": "code",
   "execution_count": null,
   "metadata": {},
   "outputs": [],
   "source": []
  }
 ],
 "metadata": {
  "kernelspec": {
   "display_name": "Python 3",
   "language": "python",
   "name": "python3"
  },
  "language_info": {
   "codemirror_mode": {
    "name": "ipython",
    "version": 3
   },
   "file_extension": ".py",
   "mimetype": "text/x-python",
   "name": "python",
   "nbconvert_exporter": "python",
   "pygments_lexer": "ipython3",
   "version": "3.6.5"
  }
 },
 "nbformat": 4,
 "nbformat_minor": 2
}
