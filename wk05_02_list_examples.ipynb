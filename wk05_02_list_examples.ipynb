{
 "cells": [
  {
   "cell_type": "markdown",
   "metadata": {},
   "source": [
    "# wk05_02 List_Examples"
   ]
  },
  {
   "cell_type": "markdown",
   "metadata": {},
   "source": [
    "### Examples of red circles"
   ]
  },
  {
   "cell_type": "markdown",
   "metadata": {},
   "source": [
    "<span style=\"color:red\">연습문제 5.2.1 </span> <br><br>\n",
    "마우스를 클릭하면, 마우스를 클릭한 자리에 빨간원이 추가 되도록 코드를 고치시오."
   ]
  },
  {
   "cell_type": "code",
   "execution_count": null,
   "metadata": {},
   "outputs": [],
   "source": [
    "# Examples of mouse input\n",
    "\n",
    "import SimpleGUICS2Pygame.simpleguics2pygame as simplegui\n",
    "import math\n",
    "\n",
    "# intialize globals\n",
    "width = 450\n",
    "height = 300\n",
    "ball_list = []\n",
    "ball_radius = 15\n",
    "ball_color = \"Red\"\n",
    "\n",
    "# helper function\n",
    "def distance(p, q):\n",
    "    return math.sqrt((p[0] - q[0]) ** 2 + (p[1] - q[1]) ** 2)\n",
    "\n",
    "# define event handler for mouse click, draw\n",
    "def click(pos):\n",
    "    ball_list.append(pos)\n",
    "#    if distance(ball_pos, pos) < ball_radius:\n",
    "#        if ball_color == \"Red\":\n",
    "#            ball_color = \"Green\"\n",
    "#    else:\n",
    "#        ball_pos = [pos[0], pos[1]]\n",
    "#        ball_color = \"Red\"\n",
    "\n",
    "def draw(canvas):\n",
    "    for ball_pos in ball_list:\n",
    "        canvas.draw_circle(ball_pos, ball_radius, 1, \"Black\", ball_color)\n",
    "    \n",
    "# create frame\n",
    "frame = simplegui.create_frame(\"Mouse selection\", width, height)\n",
    "frame.set_canvas_background(\"White\")\n",
    "\n",
    "# register event handler\n",
    "frame.set_mouseclick_handler(click)\n",
    "frame.set_draw_handler(draw)\n",
    "\n",
    "# start frame\n",
    "frame.start()\n",
    "    "
   ]
  },
  {
   "cell_type": "markdown",
   "metadata": {},
   "source": [
    "### Examples of red circles and green circles"
   ]
  },
  {
   "cell_type": "markdown",
   "metadata": {},
   "source": [
    "<span style=\"color:red\">연습문제 5.2.2 </span> <br><br>\n",
    "빨간 원에 마우스를 클릭하면 초록색으로 바뀌며,<br>\n",
    "빨간 원이 아닌 곳을 클릭하면, 마우스를 클릭한 자리에 빨간 원이 추가되도록 코드를 고치시오."
   ]
  },
  {
   "cell_type": "code",
   "execution_count": null,
   "metadata": {},
   "outputs": [],
   "source": [
    "# Examples of mouse input\n",
    "\n",
    "import SimpleGUICS2Pygame.simpleguics2pygame as simplegui\n",
    "import math\n",
    "\n",
    "# intialize globals\n",
    "width = 450\n",
    "height = 300\n",
    "ball_list = []\n",
    "ball_radius = 15\n",
    "\n",
    "# helper function\n",
    "def distance(p, q):\n",
    "    return math.sqrt((p[0] - q[0]) ** 2 + (p[1] - q[1]) ** 2)\n",
    "\n",
    "# define event handler for mouse click, draw\n",
    "def click(pos):\n",
    "    changed = False\n",
    "    for ball in ball_list:\n",
    "        if distance([ball[0], ball[1]], pos) < ball_radius:\n",
    "            ball[2] = \"Green\"\n",
    "            changed = True\n",
    "\n",
    "    if not changed:\n",
    "        ball_list.append([pos[0], pos[1], \"Red\"])\n",
    "\n",
    "def draw(canvas):\n",
    "    for ball in ball_list:\n",
    "        canvas.draw_circle([ball[0], ball[1]], ball_radius, 1, \"Black\", ball[2])\n",
    "    \n",
    "# create frame\n",
    "frame = simplegui.create_frame(\"Mouse selection\", width, height)\n",
    "frame.set_canvas_background(\"White\")\n",
    "\n",
    "# register event handler\n",
    "frame.set_mouseclick_handler(click)\n",
    "frame.set_draw_handler(draw)\n",
    "\n",
    "# start frame\n",
    "frame.start()\n",
    "    "
   ]
  },
  {
   "cell_type": "markdown",
   "metadata": {},
   "source": [
    "### Examples of removing the circles by clicking on the existing circle"
   ]
  },
  {
   "cell_type": "markdown",
   "metadata": {},
   "source": [
    "<span style=\"color:red\">연습문제 5.2.3 </span> <br><br>\n",
    "빨간 원에 마우스를 클릭하면 그 원이 사라지며,<br>\n",
    "빨간 원이 아닌 곳을 클릭하면, 마우스를 클릭한 자리에 빨간 원이 추가되도록 코드를 고치시오."
   ]
  },
  {
   "cell_type": "code",
   "execution_count": null,
   "metadata": {},
   "outputs": [],
   "source": [
    "# Examples of mouse input\n",
    "\n",
    "import SimpleGUICS2Pygame.simpleguics2pygame as simplegui\n",
    "import math\n",
    "\n",
    "# intialize globals\n",
    "width = 450\n",
    "height = 300\n",
    "ball_list = []\n",
    "ball_radius = 15\n",
    "ball_color = \"Red\"\n",
    "\n",
    "# helper function\n",
    "def distance(p, q):\n",
    "    return math.sqrt((p[0] - q[0]) ** 2 + (p[1] - q[1]) ** 2)\n",
    "\n",
    "# define event handler for mouse click, draw\n",
    "def click(pos):\n",
    "    remove = []\n",
    "    for ball in ball_list:\n",
    "        if distance(ball, pos) < ball_radius:\n",
    "            remove.append(ball)\n",
    "\n",
    "    if remove == []:\n",
    "        ball_list.append(pos)\n",
    "    else:\n",
    "        for ball in remove:\n",
    "            ball_list.pop(ball_list.index(ball))\n",
    "\n",
    "def draw(canvas):\n",
    "    for ball in ball_list:\n",
    "        canvas.draw_circle([ball[0], ball[1]], ball_radius, 1, \"Black\", ball_color)\n",
    "    \n",
    "# create frame\n",
    "frame = simplegui.create_frame(\"Mouse selection\", width, height)\n",
    "frame.set_canvas_background(\"White\")\n",
    "\n",
    "# register event handler\n",
    "frame.set_mouseclick_handler(click)\n",
    "frame.set_draw_handler(draw)\n",
    "\n",
    "# start frame\n",
    "frame.start()\n",
    "    "
   ]
  },
  {
   "cell_type": "code",
   "execution_count": null,
   "metadata": {},
   "outputs": [],
   "source": []
  }
 ],
 "metadata": {
  "kernelspec": {
   "display_name": "Python 3",
   "language": "python",
   "name": "python3"
  },
  "language_info": {
   "codemirror_mode": {
    "name": "ipython",
    "version": 3
   },
   "file_extension": ".py",
   "mimetype": "text/x-python",
   "name": "python",
   "nbconvert_exporter": "python",
   "pygments_lexer": "ipython3",
   "version": "3.6.5"
  }
 },
 "nbformat": 4,
 "nbformat_minor": 2
}
